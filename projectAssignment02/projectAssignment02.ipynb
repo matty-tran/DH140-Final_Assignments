{
 "cells": [
  {
   "cell_type": "markdown",
   "id": "e07236a2-7bab-4f98-8c74-3df5ef940fdc",
   "metadata": {},
   "source": [
    "## Research Question:\n",
    "\n",
    "### **\"What are the most successful video games and what common traits among them can be incorporated into gamified learning?\"** \n",
    "\n",
    "My research question is motivated by my own interests as to how learning and education can be gamified. Taking inspiration from recreating gaming, I would like to investigate the most successful video games under various metrics such as time spent playing, players who completed the game and extra content, review scores, and sales. After concluding which games can be deemed successful, we can begin meta-analysis of common traits amongst these games, why they were successful, and what aspects can be incorporated into gamified learning. \n",
    "\n",
    "## Why? \n",
    "\n",
    "As someone who is intersted in design, gamification, and evolving pedagogical methods, I think that gamification is an emerging way to faciliate teaching and learning. Especially in recent times when gaming has expanded as a recreational pasttime, there is no better time than to look to video games for new inspiration for developing teaching tools! One of the most powerful aspects of teaching is motivation, and I think that gamification is promising way to faciliate motivation in students. My own areas of interest are language pedagogy, but with some inspiration and help from the great titles, I hope that we can uncovers ways to inprove teaching across multiple disciplines. \n",
    "\n",
    "\n",
    "## The Data: \n",
    "\n",
    "I will be working with the CORGIS Video Games dataset which can be found [here.](https://corgis-edu.github.io/corgis/python/video_games/) This dataset covers thousands of video game titles that were released between 2004 and 2010. Each title has information including ratings, sales, and time taken to complete content. \n",
    "\n",
    "## Scope \n",
    "\n",
    "Across the thousands of games from the CORGIS dataset, I plan to analyze \"succcess\" of titles uner varying metrics. This of course will include looking at games that were not considered successful. Visualizations would primarily include figures that describe both title specific information as well as grouping titles based on their commonalities of success or failure. A healthy part of this project will also include meta-analysis of titles that are considered successes or failures, from various lenses such as cultural, aesthetic, or other qualitative perspectives. Additional datasets or quantative information may supplement analyses and will be specified as they arise. \n",
    "\n",
    "## Conclusion \n",
    "\n",
    "I hope that from this project I can gain some persepctive of what makes a \"good\" game, and how any traits of such games can be included in gamified teaching. Additionally, I hope to develop my skills in working with datasets, as well as the tools needed to analyze them and create meaningful visualizations. Througout this project I would like to improve being abke to transform raw data into meaningful conclusions that are supplemented by data visualizations. "
   ]
  },
  {
   "cell_type": "markdown",
   "id": "886fe611-344e-447e-8c04-28d8c64be612",
   "metadata": {},
   "source": [
    "# Data Intro"
   ]
  },
  {
   "cell_type": "markdown",
   "id": "1fee9e66-182f-4cb6-bb5f-93e85a7977f2",
   "metadata": {},
   "source": [
    "The categoies that I am interested in and their possible effects on the success of a game are: \n",
    "1. Maximum number of players: how many people can play this game at one time? \n",
    "2. Online Features: does the game support online play? \n",
    "3. Genre: what genre does this game belong to? \n",
    "\n",
    "Within these categories, I would like to measure success of a game using: \n",
    "1. Review score: the typical review score out of 100 \n",
    "2. Sales: the total sales made on the game measured in millions of dollars \n",
    "3. Completionist: players reported completing everything in the game "
   ]
  },
  {
   "cell_type": "code",
   "execution_count": 1,
   "id": "4a367a9f-44be-4635-b2f4-a4dc8887d177",
   "metadata": {},
   "outputs": [],
   "source": [
    "import pandas as pd"
   ]
  },
  {
   "cell_type": "code",
   "execution_count": 2,
   "id": "0709ce9d-dff1-4d34-9383-34ef98e4a7db",
   "metadata": {},
   "outputs": [],
   "source": [
    "import video_games"
   ]
  },
  {
   "cell_type": "code",
   "execution_count": 3,
   "id": "c2b691af-3b92-4f1c-9bea-1c8415e73765",
   "metadata": {},
   "outputs": [],
   "source": [
    "video_game = video_games.get_video_game()"
   ]
  },
  {
   "cell_type": "code",
   "execution_count": 4,
   "id": "e1889351-806e-46ed-b562-40b5a45e7550",
   "metadata": {},
   "outputs": [],
   "source": [
    "df = pd.read_csv('video_games.csv')"
   ]
  },
  {
   "cell_type": "code",
   "execution_count": 5,
   "id": "4a372898-2074-49bc-bba8-a1729bb83fad",
   "metadata": {},
   "outputs": [
    {
     "data": {
      "text/html": [
       "<div>\n",
       "<style scoped>\n",
       "    .dataframe tbody tr th:only-of-type {\n",
       "        vertical-align: middle;\n",
       "    }\n",
       "\n",
       "    .dataframe tbody tr th {\n",
       "        vertical-align: top;\n",
       "    }\n",
       "\n",
       "    .dataframe thead th {\n",
       "        text-align: right;\n",
       "    }\n",
       "</style>\n",
       "<table border=\"1\" class=\"dataframe\">\n",
       "  <thead>\n",
       "    <tr style=\"text-align: right;\">\n",
       "      <th></th>\n",
       "      <th>Title</th>\n",
       "      <th>Features.Handheld?</th>\n",
       "      <th>Features.Max Players</th>\n",
       "      <th>Features.Multiplatform?</th>\n",
       "      <th>Features.Online?</th>\n",
       "      <th>Metadata.Genres</th>\n",
       "      <th>Metadata.Licensed?</th>\n",
       "      <th>Metadata.Publishers</th>\n",
       "      <th>Metadata.Sequel?</th>\n",
       "      <th>Metrics.Review Score</th>\n",
       "      <th>...</th>\n",
       "      <th>Length.Main + Extras.Average</th>\n",
       "      <th>Length.Main + Extras.Leisure</th>\n",
       "      <th>Length.Main + Extras.Median</th>\n",
       "      <th>Length.Main + Extras.Polled</th>\n",
       "      <th>Length.Main + Extras.Rushed</th>\n",
       "      <th>Length.Main Story.Average</th>\n",
       "      <th>Length.Main Story.Leisure</th>\n",
       "      <th>Length.Main Story.Median</th>\n",
       "      <th>Length.Main Story.Polled</th>\n",
       "      <th>Length.Main Story.Rushed</th>\n",
       "    </tr>\n",
       "  </thead>\n",
       "  <tbody>\n",
       "    <tr>\n",
       "      <th>0</th>\n",
       "      <td>Super Mario 64 DS</td>\n",
       "      <td>True</td>\n",
       "      <td>1</td>\n",
       "      <td>True</td>\n",
       "      <td>True</td>\n",
       "      <td>Action</td>\n",
       "      <td>True</td>\n",
       "      <td>Nintendo</td>\n",
       "      <td>True</td>\n",
       "      <td>85</td>\n",
       "      <td>...</td>\n",
       "      <td>24.916667</td>\n",
       "      <td>29.966667</td>\n",
       "      <td>25.000000</td>\n",
       "      <td>16</td>\n",
       "      <td>18.333333</td>\n",
       "      <td>14.333333</td>\n",
       "      <td>18.316667</td>\n",
       "      <td>14.500000</td>\n",
       "      <td>21</td>\n",
       "      <td>9.700000</td>\n",
       "    </tr>\n",
       "    <tr>\n",
       "      <th>1</th>\n",
       "      <td>Lumines: Puzzle Fusion</td>\n",
       "      <td>True</td>\n",
       "      <td>1</td>\n",
       "      <td>True</td>\n",
       "      <td>True</td>\n",
       "      <td>Strategy</td>\n",
       "      <td>True</td>\n",
       "      <td>Ubisoft</td>\n",
       "      <td>True</td>\n",
       "      <td>89</td>\n",
       "      <td>...</td>\n",
       "      <td>9.750000</td>\n",
       "      <td>9.866667</td>\n",
       "      <td>9.750000</td>\n",
       "      <td>2</td>\n",
       "      <td>9.616667</td>\n",
       "      <td>10.333333</td>\n",
       "      <td>11.083333</td>\n",
       "      <td>10.000000</td>\n",
       "      <td>3</td>\n",
       "      <td>9.583333</td>\n",
       "    </tr>\n",
       "    <tr>\n",
       "      <th>2</th>\n",
       "      <td>WarioWare Touched!</td>\n",
       "      <td>True</td>\n",
       "      <td>2</td>\n",
       "      <td>True</td>\n",
       "      <td>True</td>\n",
       "      <td>Action,Racing / Driving,Sports</td>\n",
       "      <td>True</td>\n",
       "      <td>Nintendo</td>\n",
       "      <td>True</td>\n",
       "      <td>81</td>\n",
       "      <td>...</td>\n",
       "      <td>3.850000</td>\n",
       "      <td>5.666667</td>\n",
       "      <td>3.333333</td>\n",
       "      <td>11</td>\n",
       "      <td>2.783333</td>\n",
       "      <td>1.916667</td>\n",
       "      <td>2.933333</td>\n",
       "      <td>1.833333</td>\n",
       "      <td>30</td>\n",
       "      <td>1.433333</td>\n",
       "    </tr>\n",
       "    <tr>\n",
       "      <th>3</th>\n",
       "      <td>Hot Shots Golf: Open Tee</td>\n",
       "      <td>True</td>\n",
       "      <td>1</td>\n",
       "      <td>True</td>\n",
       "      <td>True</td>\n",
       "      <td>Sports</td>\n",
       "      <td>True</td>\n",
       "      <td>Sony</td>\n",
       "      <td>True</td>\n",
       "      <td>81</td>\n",
       "      <td>...</td>\n",
       "      <td>0.000000</td>\n",
       "      <td>0.000000</td>\n",
       "      <td>0.000000</td>\n",
       "      <td>0</td>\n",
       "      <td>0.000000</td>\n",
       "      <td>0.000000</td>\n",
       "      <td>0.000000</td>\n",
       "      <td>0.000000</td>\n",
       "      <td>0</td>\n",
       "      <td>0.000000</td>\n",
       "    </tr>\n",
       "    <tr>\n",
       "      <th>4</th>\n",
       "      <td>Spider-Man 2</td>\n",
       "      <td>True</td>\n",
       "      <td>1</td>\n",
       "      <td>True</td>\n",
       "      <td>True</td>\n",
       "      <td>Action</td>\n",
       "      <td>True</td>\n",
       "      <td>Activision</td>\n",
       "      <td>True</td>\n",
       "      <td>61</td>\n",
       "      <td>...</td>\n",
       "      <td>12.766667</td>\n",
       "      <td>17.316667</td>\n",
       "      <td>12.500000</td>\n",
       "      <td>12</td>\n",
       "      <td>10.483333</td>\n",
       "      <td>8.350000</td>\n",
       "      <td>11.083333</td>\n",
       "      <td>8.000000</td>\n",
       "      <td>23</td>\n",
       "      <td>5.333333</td>\n",
       "    </tr>\n",
       "  </tbody>\n",
       "</table>\n",
       "<p>5 rows × 36 columns</p>\n",
       "</div>"
      ],
      "text/plain": [
       "                      Title  Features.Handheld?  Features.Max Players  \\\n",
       "0         Super Mario 64 DS                True                     1   \n",
       "1    Lumines: Puzzle Fusion                True                     1   \n",
       "2        WarioWare Touched!                True                     2   \n",
       "3  Hot Shots Golf: Open Tee                True                     1   \n",
       "4              Spider-Man 2                True                     1   \n",
       "\n",
       "   Features.Multiplatform?  Features.Online?                 Metadata.Genres  \\\n",
       "0                     True              True                          Action   \n",
       "1                     True              True                        Strategy   \n",
       "2                     True              True  Action,Racing / Driving,Sports   \n",
       "3                     True              True                          Sports   \n",
       "4                     True              True                          Action   \n",
       "\n",
       "   Metadata.Licensed? Metadata.Publishers  Metadata.Sequel?  \\\n",
       "0                True            Nintendo              True   \n",
       "1                True             Ubisoft              True   \n",
       "2                True            Nintendo              True   \n",
       "3                True                Sony              True   \n",
       "4                True          Activision              True   \n",
       "\n",
       "   Metrics.Review Score  ...  Length.Main + Extras.Average  \\\n",
       "0                    85  ...                     24.916667   \n",
       "1                    89  ...                      9.750000   \n",
       "2                    81  ...                      3.850000   \n",
       "3                    81  ...                      0.000000   \n",
       "4                    61  ...                     12.766667   \n",
       "\n",
       "   Length.Main + Extras.Leisure Length.Main + Extras.Median  \\\n",
       "0                     29.966667                   25.000000   \n",
       "1                      9.866667                    9.750000   \n",
       "2                      5.666667                    3.333333   \n",
       "3                      0.000000                    0.000000   \n",
       "4                     17.316667                   12.500000   \n",
       "\n",
       "  Length.Main + Extras.Polled  Length.Main + Extras.Rushed  \\\n",
       "0                          16                    18.333333   \n",
       "1                           2                     9.616667   \n",
       "2                          11                     2.783333   \n",
       "3                           0                     0.000000   \n",
       "4                          12                    10.483333   \n",
       "\n",
       "   Length.Main Story.Average  Length.Main Story.Leisure  \\\n",
       "0                  14.333333                  18.316667   \n",
       "1                  10.333333                  11.083333   \n",
       "2                   1.916667                   2.933333   \n",
       "3                   0.000000                   0.000000   \n",
       "4                   8.350000                  11.083333   \n",
       "\n",
       "   Length.Main Story.Median  Length.Main Story.Polled  \\\n",
       "0                 14.500000                        21   \n",
       "1                 10.000000                         3   \n",
       "2                  1.833333                        30   \n",
       "3                  0.000000                         0   \n",
       "4                  8.000000                        23   \n",
       "\n",
       "   Length.Main Story.Rushed  \n",
       "0                  9.700000  \n",
       "1                  9.583333  \n",
       "2                  1.433333  \n",
       "3                  0.000000  \n",
       "4                  5.333333  \n",
       "\n",
       "[5 rows x 36 columns]"
      ]
     },
     "execution_count": 5,
     "metadata": {},
     "output_type": "execute_result"
    }
   ],
   "source": [
    "df.head()"
   ]
  },
  {
   "cell_type": "code",
   "execution_count": 6,
   "id": "744d2a6b-ff12-4093-8c64-16b6b825c613",
   "metadata": {},
   "outputs": [
    {
     "data": {
      "text/plain": [
       "Index(['Title', 'Features.Handheld?', 'Features.Max Players',\n",
       "       'Features.Multiplatform?', 'Features.Online?', 'Metadata.Genres',\n",
       "       'Metadata.Licensed?', 'Metadata.Publishers', 'Metadata.Sequel?',\n",
       "       'Metrics.Review Score', 'Metrics.Sales', 'Metrics.Used Price',\n",
       "       'Release.Console', 'Release.Rating', 'Release.Re-release?',\n",
       "       'Release.Year', 'Length.All PlayStyles.Average',\n",
       "       'Length.All PlayStyles.Leisure', 'Length.All PlayStyles.Median',\n",
       "       'Length.All PlayStyles.Polled', 'Length.All PlayStyles.Rushed',\n",
       "       'Length.Completionists.Average', 'Length.Completionists.Leisure',\n",
       "       'Length.Completionists.Median', 'Length.Completionists.Polled',\n",
       "       'Length.Completionists.Rushed', 'Length.Main + Extras.Average',\n",
       "       'Length.Main + Extras.Leisure', 'Length.Main + Extras.Median',\n",
       "       'Length.Main + Extras.Polled', 'Length.Main + Extras.Rushed',\n",
       "       'Length.Main Story.Average', 'Length.Main Story.Leisure',\n",
       "       'Length.Main Story.Median', 'Length.Main Story.Polled',\n",
       "       'Length.Main Story.Rushed'],\n",
       "      dtype='object')"
      ]
     },
     "execution_count": 6,
     "metadata": {},
     "output_type": "execute_result"
    }
   ],
   "source": [
    "df.keys()"
   ]
  },
  {
   "cell_type": "code",
   "execution_count": 7,
   "id": "6fd6759a-84ba-424b-a098-382193fa3258",
   "metadata": {},
   "outputs": [
    {
     "data": {
      "text/plain": [
       "0       1\n",
       "1       1\n",
       "2       2\n",
       "3       1\n",
       "4       1\n",
       "       ..\n",
       "1207    1\n",
       "1208    1\n",
       "1209    1\n",
       "1210    2\n",
       "1211    1\n",
       "Name: Features.Max Players, Length: 1212, dtype: int64"
      ]
     },
     "execution_count": 7,
     "metadata": {},
     "output_type": "execute_result"
    }
   ],
   "source": [
    "df['Features.Max Players']"
   ]
  },
  {
   "cell_type": "code",
   "execution_count": 8,
   "id": "fe5b342f-7dd2-4f3e-bf3d-6cd4fdc2760e",
   "metadata": {},
   "outputs": [
    {
     "data": {
      "text/plain": [
       "<AxesSubplot:ylabel='Frequency'>"
      ]
     },
     "execution_count": 8,
     "metadata": {},
     "output_type": "execute_result"
    },
    {
     "data": {
      "image/png": "[encoded data removed]",
      "text/plain": [
       "<Figure size 432x288 with 1 Axes>"
      ]
     },
     "metadata": {
      "needs_background": "light"
     },
     "output_type": "display_data"
    }
   ],
   "source": [
    "df['Features.Max Players'].plot(kind = 'hist')"
   ]
  },
  {
   "cell_type": "code",
   "execution_count": 9,
   "id": "78e0c3fc-1eac-4b79-8575-7f24ac92ad58",
   "metadata": {},
   "outputs": [
    {
     "data": {
      "text/plain": [
       "True    1212\n",
       "Name: Features.Handheld?, dtype: int64"
      ]
     },
     "execution_count": 9,
     "metadata": {},
     "output_type": "execute_result"
    }
   ],
   "source": [
    "df['Features.Handheld?'].value_counts()"
   ]
  },
  {
   "cell_type": "code",
   "execution_count": 10,
   "id": "2ad64963-5767-4a73-af9f-f0cf33170150",
   "metadata": {},
   "outputs": [
    {
     "data": {
      "text/plain": [
       "True    1212\n",
       "Name: Features.Online?, dtype: int64"
      ]
     },
     "execution_count": 10,
     "metadata": {},
     "output_type": "execute_result"
    }
   ],
   "source": [
    "df['Features.Online?'].value_counts()"
   ]
  },
  {
   "cell_type": "code",
   "execution_count": 11,
   "id": "6904862d-5f60-410c-939a-75ef86026850",
   "metadata": {
    "tags": []
   },
   "outputs": [
    {
     "data": {
      "text/plain": [
       "Action                                                  476\n",
       "Sports                                                  166\n",
       "Strategy                                                 62\n",
       "Action,Role-Playing (RPG)                                55\n",
       "Racing / Driving                                         53\n",
       "Role-Playing (RPG)                                       52\n",
       "Action,Strategy                                          45\n",
       "Action,Racing / Driving                                  40\n",
       "Simulation                                               30\n",
       "Action,Simulation                                        28\n",
       "Action,Adventure                                         28\n",
       "Adventure                                                21\n",
       "Role-Playing (RPG),Strategy                              20\n",
       "Action,Sports                                            20\n",
       "Racing / Driving,Sports                                  19\n",
       "Simulation,Strategy                                      12\n",
       "Racing / Driving,Simulation,Sports                        9\n",
       "Racing / Driving,Simulation                               6\n",
       "Adventure,Simulation                                      6\n",
       "Action,Racing / Driving,Sports                            6\n",
       "Action,Simulation,Sports                                  6\n",
       "Action,Role-Playing (RPG),Strategy                        5\n",
       "Role-Playing (RPG),Simulation                             5\n",
       "Action,Adventure,Role-Playing (RPG)                       4\n",
       "Adventure,Role-Playing (RPG)                              4\n",
       "Simulation,Sports                                         3\n",
       "Action,Racing / Driving,Role-Playing (RPG)                3\n",
       "Action,Adventure,Racing / Driving                         3\n",
       "Adventure,Role-Playing (RPG),Strategy                     2\n",
       "Educational                                               2\n",
       "Action,Simulation,Strategy                                2\n",
       "Simulation,Sports,Strategy                                2\n",
       "Action,Adventure,Racing / Driving,Sports                  2\n",
       "Adventure,Simulation,Sports                               1\n",
       "Action,Role-Playing (RPG),Simulation                      1\n",
       "Action,Racing / Driving,Sports,Strategy                   1\n",
       "Action,Educational                                        1\n",
       "Racing / Driving,Simulation,Strategy                      1\n",
       "Role-Playing (RPG),Simulation,Strategy                    1\n",
       "Educational,Simulation                                    1\n",
       "Educational,Strategy                                      1\n",
       "Adventure,Educational,Strategy                            1\n",
       "Educational,Sports                                        1\n",
       "Action,Role-Playing (RPG),Simulation,Sports,Strategy      1\n",
       "Action,Racing / Driving,Role-Playing (RPG),Strategy       1\n",
       "Action,Racing / Driving,Simulation                        1\n",
       "Sports,Strategy                                           1\n",
       "Action,Adventure,Strategy                                 1\n",
       "Name: Metadata.Genres, dtype: int64"
      ]
     },
     "execution_count": 11,
     "metadata": {},
     "output_type": "execute_result"
    }
   ],
   "source": [
    "df['Metadata.Genres'].value_counts()"
   ]
  },
  {
   "cell_type": "code",
   "execution_count": 12,
   "id": "d9418c52-82f3-4c46-96c1-8641d552eee3",
   "metadata": {
    "tags": []
   },
   "outputs": [
    {
     "data": {
      "text/plain": [
       "<AxesSubplot:ylabel='Frequency'>"
      ]
     },
     "execution_count": 12,
     "metadata": {},
     "output_type": "execute_result"
    },
    {
     "data": {
      "image/png": "[encoded data removed]",
      "text/plain": [
       "<Figure size 432x288 with 1 Axes>"
      ]
     },
     "metadata": {
      "needs_background": "light"
     },
     "output_type": "display_data"
    }
   ],
   "source": [
    "df['Metrics.Review Score'].plot(kind = 'hist')"
   ]
  },
  {
   "cell_type": "code",
   "execution_count": 13,
   "id": "6f8e201f-acf1-454c-a763-1b3ad8a12351",
   "metadata": {
    "tags": []
   },
   "outputs": [
    {
     "data": {
      "text/plain": [
       "<bound method NDFrame._add_numeric_operations.<locals>.mean of 0       85\n",
       "1       89\n",
       "2       81\n",
       "3       81\n",
       "4       61\n",
       "        ..\n",
       "1207    71\n",
       "1208    62\n",
       "1209    51\n",
       "1210    64\n",
       "1211    39\n",
       "Name: Metrics.Review Score, Length: 1212, dtype: int64>"
      ]
     },
     "execution_count": 13,
     "metadata": {},
     "output_type": "execute_result"
    }
   ],
   "source": [
    "df['Metrics.Review Score'].mean"
   ]
  },
  {
   "cell_type": "code",
   "execution_count": 14,
   "id": "b8cb5183-6c6c-4a44-92cd-4d262420c0fa",
   "metadata": {
    "tags": []
   },
   "outputs": [
    {
     "data": {
      "text/plain": [
       "<AxesSubplot:ylabel='Frequency'>"
      ]
     },
     "execution_count": 14,
     "metadata": {},
     "output_type": "execute_result"
    },
    {
     "data": {
      "image/png": "[encoded data removed]",
      "text/plain": [
       "<Figure size 432x288 with 1 Axes>"
      ]
     },
     "metadata": {
      "needs_background": "light"
     },
     "output_type": "display_data"
    }
   ],
   "source": [
    "df['Metrics.Sales'].plot(kind = 'hist')"
   ]
  },
  {
   "cell_type": "code",
   "execution_count": 15,
   "id": "0a456edc-5fec-4b19-8523-42ece02e616e",
   "metadata": {},
   "outputs": [
    {
     "data": {
      "text/plain": [
       "<bound method NDFrame._add_numeric_operations.<locals>.mean of 0       4.69\n",
       "1       0.56\n",
       "2       0.54\n",
       "3       0.49\n",
       "4       0.45\n",
       "        ... \n",
       "1207    0.03\n",
       "1208    0.03\n",
       "1209    0.03\n",
       "1210    0.02\n",
       "1211    0.02\n",
       "Name: Metrics.Sales, Length: 1212, dtype: float64>"
      ]
     },
     "execution_count": 15,
     "metadata": {},
     "output_type": "execute_result"
    }
   ],
   "source": [
    "df['Metrics.Sales'].mean"
   ]
  },
  {
   "cell_type": "code",
   "execution_count": 16,
   "id": "f73abf77-167e-461f-8a20-fc72d596b7ae",
   "metadata": {},
   "outputs": [
    {
     "data": {
      "text/plain": [
       "<AxesSubplot:>"
      ]
     },
     "execution_count": 16,
     "metadata": {},
     "output_type": "execute_result"
    },
    {
     "data": {
      "image/png": "[encoded data removed]",
      "text/plain": [
       "<Figure size 432x288 with 1 Axes>"
      ]
     },
     "metadata": {
      "needs_background": "light"
     },
     "output_type": "display_data"
    }
   ],
   "source": [
    "df['Length.All PlayStyles.Polled'].plot() "
   ]
  },
  {
   "cell_type": "markdown",
   "id": "df59e620-1c08-40f9-ae46-9e7e81b0b6d8",
   "metadata": {},
   "source": [
    "# Preliminary Analysis"
   ]
  },
  {
   "cell_type": "code",
   "execution_count": 67,
   "id": "dca6fc3e-9081-48ab-a3d1-817dc02b21ce",
   "metadata": {},
   "outputs": [],
   "source": [
    "topGamesdf = pd.DataFrame(df[df['Metrics.Review Score'] > 90].sort_values('Metrics.Review Score')).sort_values('Metrics.Review Score')"
   ]
  },
  {
   "cell_type": "code",
   "execution_count": 72,
   "id": "a052645a-a39c-462a-81ab-dda01ceb9955",
   "metadata": {},
   "outputs": [
    {
     "data": {
      "text/html": [
       "<div>\n",
       "<style scoped>\n",
       "    .dataframe tbody tr th:only-of-type {\n",
       "        vertical-align: middle;\n",
       "    }\n",
       "\n",
       "    .dataframe tbody tr th {\n",
       "        vertical-align: top;\n",
       "    }\n",
       "\n",
       "    .dataframe thead th {\n",
       "        text-align: right;\n",
       "    }\n",
       "</style>\n",
       "<table border=\"1\" class=\"dataframe\">\n",
       "  <thead>\n",
       "    <tr style=\"text-align: right;\">\n",
       "      <th></th>\n",
       "      <th>Title</th>\n",
       "      <th>Release.Year</th>\n",
       "      <th>Metadata.Genres</th>\n",
       "      <th>Metrics.Review Score</th>\n",
       "      <th>Features.Max Players</th>\n",
       "      <th>Metrics.Sales</th>\n",
       "    </tr>\n",
       "  </thead>\n",
       "  <tbody>\n",
       "    <tr>\n",
       "      <th>22</th>\n",
       "      <td>Mario Kart DS</td>\n",
       "      <td>2005</td>\n",
       "      <td>Racing / Driving</td>\n",
       "      <td>91</td>\n",
       "      <td>1</td>\n",
       "      <td>9.99</td>\n",
       "    </tr>\n",
       "    <tr>\n",
       "      <th>874</th>\n",
       "      <td>Rock Band 2</td>\n",
       "      <td>2008</td>\n",
       "      <td>Action,Simulation</td>\n",
       "      <td>91</td>\n",
       "      <td>1</td>\n",
       "      <td>1.11</td>\n",
       "    </tr>\n",
       "    <tr>\n",
       "      <th>861</th>\n",
       "      <td>God of War: Chains of Olympus</td>\n",
       "      <td>2008</td>\n",
       "      <td>Action</td>\n",
       "      <td>91</td>\n",
       "      <td>1</td>\n",
       "      <td>1.54</td>\n",
       "    </tr>\n",
       "    <tr>\n",
       "      <th>452</th>\n",
       "      <td>Resident Evil 4</td>\n",
       "      <td>2007</td>\n",
       "      <td>Action</td>\n",
       "      <td>91</td>\n",
       "      <td>1</td>\n",
       "      <td>1.24</td>\n",
       "    </tr>\n",
       "    <tr>\n",
       "      <th>442</th>\n",
       "      <td>Mass Effect</td>\n",
       "      <td>2007</td>\n",
       "      <td>Action,Role-Playing (RPG)</td>\n",
       "      <td>91</td>\n",
       "      <td>1</td>\n",
       "      <td>1.57</td>\n",
       "    </tr>\n",
       "    <tr>\n",
       "      <th>865</th>\n",
       "      <td>Rock Band</td>\n",
       "      <td>2008</td>\n",
       "      <td>Action,Simulation</td>\n",
       "      <td>92</td>\n",
       "      <td>2</td>\n",
       "      <td>1.40</td>\n",
       "    </tr>\n",
       "    <tr>\n",
       "      <th>851</th>\n",
       "      <td>Rock Band 2</td>\n",
       "      <td>2008</td>\n",
       "      <td>Action,Simulation</td>\n",
       "      <td>92</td>\n",
       "      <td>4</td>\n",
       "      <td>1.85</td>\n",
       "    </tr>\n",
       "    <tr>\n",
       "      <th>464</th>\n",
       "      <td>Rock Band</td>\n",
       "      <td>2007</td>\n",
       "      <td>Action,Simulation</td>\n",
       "      <td>92</td>\n",
       "      <td>4</td>\n",
       "      <td>1.01</td>\n",
       "    </tr>\n",
       "    <tr>\n",
       "      <th>436</th>\n",
       "      <td>Rock Band</td>\n",
       "      <td>2007</td>\n",
       "      <td>Action,Simulation</td>\n",
       "      <td>92</td>\n",
       "      <td>4</td>\n",
       "      <td>2.02</td>\n",
       "    </tr>\n",
       "    <tr>\n",
       "      <th>927</th>\n",
       "      <td>Chrono Trigger</td>\n",
       "      <td>2008</td>\n",
       "      <td>Role-Playing (RPG)</td>\n",
       "      <td>92</td>\n",
       "      <td>2</td>\n",
       "      <td>0.51</td>\n",
       "    </tr>\n",
       "    <tr>\n",
       "      <th>435</th>\n",
       "      <td>Guitar Hero II</td>\n",
       "      <td>2007</td>\n",
       "      <td>Action,Simulation</td>\n",
       "      <td>92</td>\n",
       "      <td>2</td>\n",
       "      <td>2.04</td>\n",
       "    </tr>\n",
       "    <tr>\n",
       "      <th>845</th>\n",
       "      <td>Fallout 3</td>\n",
       "      <td>2008</td>\n",
       "      <td>Action,Role-Playing (RPG)</td>\n",
       "      <td>93</td>\n",
       "      <td>1</td>\n",
       "      <td>2.44</td>\n",
       "    </tr>\n",
       "    <tr>\n",
       "      <th>835</th>\n",
       "      <td>Super Smash Bros.: Brawl</td>\n",
       "      <td>2008</td>\n",
       "      <td>Action</td>\n",
       "      <td>93</td>\n",
       "      <td>6</td>\n",
       "      <td>5.71</td>\n",
       "    </tr>\n",
       "    <tr>\n",
       "      <th>838</th>\n",
       "      <td>Gears of War 2</td>\n",
       "      <td>2008</td>\n",
       "      <td>Action</td>\n",
       "      <td>93</td>\n",
       "      <td>2</td>\n",
       "      <td>3.90</td>\n",
       "    </tr>\n",
       "    <tr>\n",
       "      <th>453</th>\n",
       "      <td>The Elder Scrolls IV: Oblivion</td>\n",
       "      <td>2007</td>\n",
       "      <td>Action,Role-Playing (RPG)</td>\n",
       "      <td>93</td>\n",
       "      <td>1</td>\n",
       "      <td>1.20</td>\n",
       "    </tr>\n",
       "    <tr>\n",
       "      <th>160</th>\n",
       "      <td>Gears of War</td>\n",
       "      <td>2006</td>\n",
       "      <td>Action</td>\n",
       "      <td>94</td>\n",
       "      <td>2</td>\n",
       "      <td>3.70</td>\n",
       "    </tr>\n",
       "    <tr>\n",
       "      <th>165</th>\n",
       "      <td>The Elder Scrolls IV: Oblivion</td>\n",
       "      <td>2006</td>\n",
       "      <td>Action,Role-Playing (RPG)</td>\n",
       "      <td>94</td>\n",
       "      <td>1</td>\n",
       "      <td>2.12</td>\n",
       "    </tr>\n",
       "    <tr>\n",
       "      <th>420</th>\n",
       "      <td>Halo 3</td>\n",
       "      <td>2007</td>\n",
       "      <td>Action</td>\n",
       "      <td>94</td>\n",
       "      <td>4</td>\n",
       "      <td>8.03</td>\n",
       "    </tr>\n",
       "    <tr>\n",
       "      <th>840</th>\n",
       "      <td>Metal Gear Solid 4: Guns of the Patriots</td>\n",
       "      <td>2008</td>\n",
       "      <td>Action</td>\n",
       "      <td>94</td>\n",
       "      <td>1</td>\n",
       "      <td>2.58</td>\n",
       "    </tr>\n",
       "    <tr>\n",
       "      <th>430</th>\n",
       "      <td>Call of Duty 4: Modern Warfare</td>\n",
       "      <td>2007</td>\n",
       "      <td>Action</td>\n",
       "      <td>94</td>\n",
       "      <td>4</td>\n",
       "      <td>2.91</td>\n",
       "    </tr>\n",
       "    <tr>\n",
       "      <th>421</th>\n",
       "      <td>Call of Duty 4: Modern Warfare</td>\n",
       "      <td>2007</td>\n",
       "      <td>Action</td>\n",
       "      <td>94</td>\n",
       "      <td>4</td>\n",
       "      <td>5.77</td>\n",
       "    </tr>\n",
       "    <tr>\n",
       "      <th>922</th>\n",
       "      <td>BioShock</td>\n",
       "      <td>2008</td>\n",
       "      <td>Action</td>\n",
       "      <td>94</td>\n",
       "      <td>1</td>\n",
       "      <td>0.53</td>\n",
       "    </tr>\n",
       "    <tr>\n",
       "      <th>844</th>\n",
       "      <td>LittleBigPlanet</td>\n",
       "      <td>2008</td>\n",
       "      <td>Action</td>\n",
       "      <td>95</td>\n",
       "      <td>4</td>\n",
       "      <td>2.46</td>\n",
       "    </tr>\n",
       "    <tr>\n",
       "      <th>161</th>\n",
       "      <td>The Legend of Zelda: Twilight Princess</td>\n",
       "      <td>2006</td>\n",
       "      <td>Action,Role-Playing (RPG)</td>\n",
       "      <td>95</td>\n",
       "      <td>1</td>\n",
       "      <td>3.33</td>\n",
       "    </tr>\n",
       "    <tr>\n",
       "      <th>444</th>\n",
       "      <td>BioShock</td>\n",
       "      <td>2007</td>\n",
       "      <td>Action</td>\n",
       "      <td>96</td>\n",
       "      <td>1</td>\n",
       "      <td>1.52</td>\n",
       "    </tr>\n",
       "    <tr>\n",
       "      <th>462</th>\n",
       "      <td>The Orange Box</td>\n",
       "      <td>2007</td>\n",
       "      <td>Action</td>\n",
       "      <td>96</td>\n",
       "      <td>1</td>\n",
       "      <td>1.06</td>\n",
       "    </tr>\n",
       "    <tr>\n",
       "      <th>422</th>\n",
       "      <td>Super Mario Galaxy</td>\n",
       "      <td>2007</td>\n",
       "      <td>Action</td>\n",
       "      <td>97</td>\n",
       "      <td>2</td>\n",
       "      <td>4.94</td>\n",
       "    </tr>\n",
       "    <tr>\n",
       "      <th>834</th>\n",
       "      <td>Grand Theft Auto IV</td>\n",
       "      <td>2008</td>\n",
       "      <td>Action,Racing / Driving</td>\n",
       "      <td>98</td>\n",
       "      <td>1</td>\n",
       "      <td>5.76</td>\n",
       "    </tr>\n",
       "    <tr>\n",
       "      <th>837</th>\n",
       "      <td>Grand Theft Auto IV</td>\n",
       "      <td>2008</td>\n",
       "      <td>Action,Racing / Driving</td>\n",
       "      <td>98</td>\n",
       "      <td>1</td>\n",
       "      <td>3.91</td>\n",
       "    </tr>\n",
       "  </tbody>\n",
       "</table>\n",
       "</div>"
      ],
      "text/plain": [
       "                                        Title  Release.Year  \\\n",
       "22                              Mario Kart DS          2005   \n",
       "874                               Rock Band 2          2008   \n",
       "861             God of War: Chains of Olympus          2008   \n",
       "452                           Resident Evil 4          2007   \n",
       "442                               Mass Effect          2007   \n",
       "865                                 Rock Band          2008   \n",
       "851                               Rock Band 2          2008   \n",
       "464                                 Rock Band          2007   \n",
       "436                                 Rock Band          2007   \n",
       "927                            Chrono Trigger          2008   \n",
       "435                            Guitar Hero II          2007   \n",
       "845                                 Fallout 3          2008   \n",
       "835                  Super Smash Bros.: Brawl          2008   \n",
       "838                            Gears of War 2          2008   \n",
       "453            The Elder Scrolls IV: Oblivion          2007   \n",
       "160                              Gears of War          2006   \n",
       "165            The Elder Scrolls IV: Oblivion          2006   \n",
       "420                                    Halo 3          2007   \n",
       "840  Metal Gear Solid 4: Guns of the Patriots          2008   \n",
       "430            Call of Duty 4: Modern Warfare          2007   \n",
       "421            Call of Duty 4: Modern Warfare          2007   \n",
       "922                                  BioShock          2008   \n",
       "844                           LittleBigPlanet          2008   \n",
       "161    The Legend of Zelda: Twilight Princess          2006   \n",
       "444                                  BioShock          2007   \n",
       "462                            The Orange Box          2007   \n",
       "422                        Super Mario Galaxy          2007   \n",
       "834                       Grand Theft Auto IV          2008   \n",
       "837                       Grand Theft Auto IV          2008   \n",
       "\n",
       "               Metadata.Genres  Metrics.Review Score  Features.Max Players  \\\n",
       "22            Racing / Driving                    91                     1   \n",
       "874          Action,Simulation                    91                     1   \n",
       "861                     Action                    91                     1   \n",
       "452                     Action                    91                     1   \n",
       "442  Action,Role-Playing (RPG)                    91                     1   \n",
       "865          Action,Simulation                    92                     2   \n",
       "851          Action,Simulation                    92                     4   \n",
       "464          Action,Simulation                    92                     4   \n",
       "436          Action,Simulation                    92                     4   \n",
       "927         Role-Playing (RPG)                    92                     2   \n",
       "435          Action,Simulation                    92                     2   \n",
       "845  Action,Role-Playing (RPG)                    93                     1   \n",
       "835                     Action                    93                     6   \n",
       "838                     Action                    93                     2   \n",
       "453  Action,Role-Playing (RPG)                    93                     1   \n",
       "160                     Action                    94                     2   \n",
       "165  Action,Role-Playing (RPG)                    94                     1   \n",
       "420                     Action                    94                     4   \n",
       "840                     Action                    94                     1   \n",
       "430                     Action                    94                     4   \n",
       "421                     Action                    94                     4   \n",
       "922                     Action                    94                     1   \n",
       "844                     Action                    95                     4   \n",
       "161  Action,Role-Playing (RPG)                    95                     1   \n",
       "444                     Action                    96                     1   \n",
       "462                     Action                    96                     1   \n",
       "422                     Action                    97                     2   \n",
       "834    Action,Racing / Driving                    98                     1   \n",
       "837    Action,Racing / Driving                    98                     1   \n",
       "\n",
       "     Metrics.Sales  \n",
       "22            9.99  \n",
       "874           1.11  \n",
       "861           1.54  \n",
       "452           1.24  \n",
       "442           1.57  \n",
       "865           1.40  \n",
       "851           1.85  \n",
       "464           1.01  \n",
       "436           2.02  \n",
       "927           0.51  \n",
       "435           2.04  \n",
       "845           2.44  \n",
       "835           5.71  \n",
       "838           3.90  \n",
       "453           1.20  \n",
       "160           3.70  \n",
       "165           2.12  \n",
       "420           8.03  \n",
       "840           2.58  \n",
       "430           2.91  \n",
       "421           5.77  \n",
       "922           0.53  \n",
       "844           2.46  \n",
       "161           3.33  \n",
       "444           1.52  \n",
       "462           1.06  \n",
       "422           4.94  \n",
       "834           5.76  \n",
       "837           3.91  "
      ]
     },
     "execution_count": 72,
     "metadata": {},
     "output_type": "execute_result"
    }
   ],
   "source": [
    "topGamesdf[['Title', 'Release.Year', 'Metadata.Genres','Metrics.Review Score', 'Features.Max Players', 'Metrics.Sales' ]]"
   ]
  },
  {
   "cell_type": "markdown",
   "id": "1c04d588-7f60-42a3-bef1-91d6cd1068cd",
   "metadata": {},
   "source": [
    "Here is one example of a filtered data frame that I made by only viewing games that had a critic review score of over 90. This combine I believe with the Metric Sales would be a good indicator of whether or not a game had market success. After creating a list of successful games, I would like to create visualizations that try and correlate some features of the game with success, such as genre, max number of players, or time players spent completing the game, and seeing where our successful games fall on this visualization. \n",
    "\n",
    "I think it would be helpful to create a similar dataframe with titles that are not considered successful, so that we can also examine any correlation between features of a game and it not being successful. \n",
    "\n",
    "I would like to include visualizations that: \n",
    "1. Correlate critic review scores and sales: do people buy \"good\" games, or are there other reasons someone might buy a game? if so what category best predicts how well a game will sell? \n",
    "2. Correlate genre and time spent completing the game: does the KIND of game affect how long a person will play the game? (this could be helpful in the education aspects, what kind of game do people get most invested in?) \n",
    "3. Correlation between manufacturer and sales: does a specific company typically produce games that people like? can we investigate this company's design philosophy and what can we learn from them? \n",
    "4. Correlate sales and time spent playing a game: does commercial success at all predict for \"player\" sucess, that is, they are spending long periods of time playing the game? what is the best predictor for if someone will spend a long time playing the game? "
   ]
  },
  {
   "cell_type": "markdown",
   "id": "e511dea4-2902-4e4b-97f5-115769165eb5",
   "metadata": {},
   "source": [
    "# Reflection "
   ]
  },
  {
   "cell_type": "markdown",
   "id": "98e43a01-de3d-41cb-8feb-e4e0da11c474",
   "metadata": {},
   "source": [
    "After conducting an initial investigation with my dataset, I think I would like to slightly modify the parameters of my initial query. I think that it would firstly helpful to clarify my research questions as firstly trying to define market success vs. player success of a video game. Using this as a basis, I can then investigate what parameters of the game can determine these two levels of success. \n",
    "   \n",
    "Using the knowledge from this first point, I think that it would be helpful to extend the investigation beyond that of this dataset, and instead take a more detailed examination of the titles that I discover to be the most successful. This may include analysis of the games scripts, or perhaps another dataset, but I think this would be more helpful in trying to make connections of how one might go about creating a successful educational game. \n",
    "\n",
    "Another aspect that may be helpful to investigate is any data on existing educational games. One that comes to mind is Duolingo, so any kind of data on thi"
   ]
  }
 ],
 "metadata": {
  "kernelspec": {
   "display_name": "Python 3 (ipykernel)",
   "language": "python",
   "name": "python3"
  },
  "language_info": {
   "codemirror_mode": {
    "name": "ipython",
    "version": 3
   },
   "file_extension": ".py",
   "mimetype": "text/x-python",
   "name": "python",
   "nbconvert_exporter": "python",
   "pygments_lexer": "ipython3",
   "version": "3.9.6"
  }
 },
 "nbformat": 4,
 "nbformat_minor": 5
}
